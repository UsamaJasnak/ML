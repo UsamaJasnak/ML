{
 "cells": [
  {
   "cell_type": "markdown",
   "id": "fe788e64",
   "metadata": {},
   "source": [
    "### Database connections\n",
    "\n",
    "Our first step will be to create a connection to our SQL database. A few common SQL databases used with Python include:\n",
    "\n",
    " - Microsoft SQL Server\n",
    " - Postgres\n",
    " - MySQL\n",
    " - AWS Redshift\n",
    " - AWS Aurora\n",
    " - Oracle DB\n",
    " - Terradata\n",
    " - Db2 Family\n",
    " - Many, many others\n",
    " \n",
    "Each of these databases will require a slightly different setup, and may require credentials (username & password), tokens, or other access requirements. We'll be using `sqlite3` to connect to our database, but other connection packages include:\n",
    "\n",
    " - [`SQLAlchemy`](https://www.sqlalchemy.org/) (most common)\n",
    " - [`psycopg2`](http://initd.org/psycopg/)\n",
    " - [`MySQLdb`](http://mysql-python.sourceforge.net/MySQLdb.html)"
   ]
  },
  {
   "cell_type": "markdown",
   "id": "5ae2d401",
   "metadata": {},
   "source": [
    "## SQLite"
   ]
  },
  {
   "cell_type": "code",
   "execution_count": 1,
   "id": "8279f5f9",
   "metadata": {},
   "outputs": [],
   "source": [
    "# Imports\n",
    "import sqlite3 as sq3\n",
    "import pandas.io.sql as pds\n",
    "import pandas as pd"
   ]
  },
  {
   "cell_type": "code",
   "execution_count": 2,
   "id": "ca30f435",
   "metadata": {},
   "outputs": [],
   "source": [
    "# Initialize path to SQLite database\n",
    "path = 'data/classic_rock.db'\n",
    "conn = sq3.Connection(path)\n",
    "cur = conn.cursor()\n",
    "# We now have a live connection to our SQL database"
   ]
  },
  {
   "cell_type": "markdown",
   "id": "9005da14",
   "metadata": {},
   "source": [
    "### Reading data\n",
    "\n",
    "Now that we've got a connection to our database, we can perform queries, and load their results in as Pandas DataFrames"
   ]
  },
  {
   "cell_type": "code",
   "execution_count": 3,
   "id": "ff60ecb0",
   "metadata": {},
   "outputs": [
    {
     "data": {
      "text/html": [
       "<div>\n",
       "<style scoped>\n",
       "    .dataframe tbody tr th:only-of-type {\n",
       "        vertical-align: middle;\n",
       "    }\n",
       "\n",
       "    .dataframe tbody tr th {\n",
       "        vertical-align: top;\n",
       "    }\n",
       "\n",
       "    .dataframe thead th {\n",
       "        text-align: right;\n",
       "    }\n",
       "</style>\n",
       "<table border=\"1\" class=\"dataframe\">\n",
       "  <thead>\n",
       "    <tr style=\"text-align: right;\">\n",
       "      <th></th>\n",
       "      <th>Song</th>\n",
       "      <th>Artist</th>\n",
       "      <th>Release_Year</th>\n",
       "      <th>PlayCount</th>\n",
       "    </tr>\n",
       "  </thead>\n",
       "  <tbody>\n",
       "    <tr>\n",
       "      <th>0</th>\n",
       "      <td>Caught Up in You</td>\n",
       "      <td>.38 Special</td>\n",
       "      <td>1982.0</td>\n",
       "      <td>82</td>\n",
       "    </tr>\n",
       "    <tr>\n",
       "      <th>1</th>\n",
       "      <td>Hold On Loosely</td>\n",
       "      <td>.38 Special</td>\n",
       "      <td>1981.0</td>\n",
       "      <td>85</td>\n",
       "    </tr>\n",
       "    <tr>\n",
       "      <th>2</th>\n",
       "      <td>Rockin' Into the Night</td>\n",
       "      <td>.38 Special</td>\n",
       "      <td>1980.0</td>\n",
       "      <td>18</td>\n",
       "    </tr>\n",
       "    <tr>\n",
       "      <th>3</th>\n",
       "      <td>Art For Arts Sake</td>\n",
       "      <td>10cc</td>\n",
       "      <td>1975.0</td>\n",
       "      <td>1</td>\n",
       "    </tr>\n",
       "    <tr>\n",
       "      <th>4</th>\n",
       "      <td>Kryptonite</td>\n",
       "      <td>3 Doors Down</td>\n",
       "      <td>2000.0</td>\n",
       "      <td>13</td>\n",
       "    </tr>\n",
       "  </tbody>\n",
       "</table>\n",
       "</div>"
      ],
      "text/plain": [
       "                     Song        Artist  Release_Year  PlayCount\n",
       "0        Caught Up in You   .38 Special        1982.0         82\n",
       "1         Hold On Loosely   .38 Special        1981.0         85\n",
       "2  Rockin' Into the Night   .38 Special        1980.0         18\n",
       "3       Art For Arts Sake          10cc        1975.0          1\n",
       "4              Kryptonite  3 Doors Down        2000.0         13"
      ]
     },
     "execution_count": 3,
     "metadata": {},
     "output_type": "execute_result"
    }
   ],
   "source": [
    "# Write the query\n",
    "query = '''\n",
    "SELECT * \n",
    "FROM rock_songs;\n",
    "'''\n",
    "\n",
    "# Execute the query\n",
    "observations = pds.read_sql(query, conn)\n",
    "\n",
    "observations.head()"
   ]
  },
  {
   "cell_type": "markdown",
   "id": "deb0fde4",
   "metadata": {},
   "source": [
    "### Executing Commands"
   ]
  },
  {
   "cell_type": "code",
   "execution_count": null,
   "id": "a3017644",
   "metadata": {},
   "outputs": [],
   "source": [
    "cur.execute('DROP TABLE IF EXISTS Counts')"
   ]
  },
  {
   "cell_type": "markdown",
   "id": "fd2bfef1",
   "metadata": {},
   "source": [
    "## MySQL"
   ]
  },
  {
   "cell_type": "code",
   "execution_count": null,
   "id": "3bd22cba",
   "metadata": {},
   "outputs": [],
   "source": []
  },
  {
   "cell_type": "markdown",
   "id": "c2e349e3",
   "metadata": {},
   "source": [
    "## Oracle DB"
   ]
  },
  {
   "cell_type": "code",
   "execution_count": null,
   "id": "b4d52a95",
   "metadata": {},
   "outputs": [],
   "source": []
  },
  {
   "cell_type": "markdown",
   "id": "7e7b2064",
   "metadata": {},
   "source": [
    "## MS SQL Server"
   ]
  },
  {
   "cell_type": "code",
   "execution_count": null,
   "id": "7b663484",
   "metadata": {},
   "outputs": [],
   "source": []
  },
  {
   "cell_type": "markdown",
   "id": "3162fe51",
   "metadata": {},
   "source": [
    "## IBM Db2"
   ]
  },
  {
   "cell_type": "code",
   "execution_count": null,
   "id": "a9d68598",
   "metadata": {},
   "outputs": [],
   "source": []
  }
 ],
 "metadata": {
  "kernelspec": {
   "display_name": "Python 3",
   "language": "python",
   "name": "python3"
  },
  "language_info": {
   "codemirror_mode": {
    "name": "ipython",
    "version": 3
   },
   "file_extension": ".py",
   "mimetype": "text/x-python",
   "name": "python",
   "nbconvert_exporter": "python",
   "pygments_lexer": "ipython3",
   "version": "3.8.8"
  }
 },
 "nbformat": 4,
 "nbformat_minor": 5
}
